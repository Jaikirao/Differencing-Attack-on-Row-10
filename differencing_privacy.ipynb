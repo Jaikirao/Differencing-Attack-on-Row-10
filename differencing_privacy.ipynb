{
  "nbformat": 4,
  "nbformat_minor": 0,
  "metadata": {
    "colab": {
      "name": "Copy of Welcome To Colaboratory",
      "version": "0.3.2",
      "provenance": [],
      "collapsed_sections": [],
      "toc_visible": true,
      "include_colab_link": true
    },
    "kernelspec": {
      "display_name": "Python 3",
      "name": "python3"
    }
  },
  "cells": [
    {
      "cell_type": "markdown",
      "metadata": {
        "id": "view-in-github",
        "colab_type": "text"
      },
      "source": [
        "<a href=\"https://colab.research.google.com/github/Jaikirao/Differencing-Attack-on-Row-10/blob/master/differencing_privacy.ipynb\" target=\"_parent\"><img src=\"https://colab.research.google.com/assets/colab-badge.svg\" alt=\"Open In Colab\"/></a>"
      ]
    },
    {
      "cell_type": "code",
      "metadata": {
        "id": "KBsPK24hxxIz",
        "colab_type": "code",
        "outputId": "883e2a98-2a64-4d54-99bc-08048c415028",
        "colab": {
          "base_uri": "https://localhost:8080/",
          "height": 51
        }
      },
      "source": [
        "import torch\n",
        "\n",
        "# the number of entries in our database\n",
        "num_entries = 20\n",
        "\n",
        "db = torch.rand(num_entries) > 0.5\n",
        "db"
      ],
      "execution_count": 0,
      "outputs": [
        {
          "output_type": "execute_result",
          "data": {
            "text/plain": [
              "tensor([0, 1, 0, 0, 1, 1, 0, 1, 1, 1, 1, 1, 1, 1, 1, 0, 0, 1, 0, 1],\n",
              "       dtype=torch.uint8)"
            ]
          },
          "metadata": {
            "tags": []
          },
          "execution_count": 3
        }
      ]
    },
    {
      "cell_type": "code",
      "metadata": {
        "id": "_tUy6KVlxxEn",
        "colab_type": "code",
        "colab": {}
      },
      "source": [
        "def get_parallel_db(db , remove_index):\n",
        "  return torch.cat((db[0:remove_index],\n",
        "                    db[remove_index+1:]))"
      ],
      "execution_count": 0,
      "outputs": []
    },
    {
      "cell_type": "code",
      "metadata": {
        "id": "u2Lutyl9xxAw",
        "colab_type": "code",
        "outputId": "5c82ba50-07e8-4f85-9941-ce7a8346eb51",
        "colab": {
          "base_uri": "https://localhost:8080/",
          "height": 51
        }
      },
      "source": [
        "get_parallel_db(db,2)"
      ],
      "execution_count": 0,
      "outputs": [
        {
          "output_type": "execute_result",
          "data": {
            "text/plain": [
              "tensor([0, 1, 0, 1, 1, 0, 1, 1, 1, 1, 1, 1, 1, 1, 0, 0, 1, 0, 1],\n",
              "       dtype=torch.uint8)"
            ]
          },
          "metadata": {
            "tags": []
          },
          "execution_count": 5
        }
      ]
    },
    {
      "cell_type": "code",
      "metadata": {
        "id": "vj-1vkd-xw7S",
        "colab_type": "code",
        "colab": {}
      },
      "source": [
        "def get_parallel_dbs(db):\n",
        "  parallel_dbs=list()\n",
        "  for i in range(len(db)):\n",
        "    pdb=get_parallel_db(db,i)\n",
        "    parallel_dbs.append(pdb)\n",
        "    \n",
        "  return parallel_dbs\n"
      ],
      "execution_count": 0,
      "outputs": []
    },
    {
      "cell_type": "code",
      "metadata": {
        "id": "23fQsLlOxwLZ",
        "colab_type": "code",
        "outputId": "c5a4e7b7-deed-4a8a-8fda-116f76f8b032",
        "colab": {
          "base_uri": "https://localhost:8080/",
          "height": 697
        }
      },
      "source": [
        "get_parallel_dbs(db)"
      ],
      "execution_count": 0,
      "outputs": [
        {
          "output_type": "execute_result",
          "data": {
            "text/plain": [
              "[tensor([1, 0, 0, 1, 1, 0, 1, 1, 1, 1, 1, 1, 1, 1, 0, 0, 1, 0, 1],\n",
              "        dtype=torch.uint8),\n",
              " tensor([0, 0, 0, 1, 1, 0, 1, 1, 1, 1, 1, 1, 1, 1, 0, 0, 1, 0, 1],\n",
              "        dtype=torch.uint8),\n",
              " tensor([0, 1, 0, 1, 1, 0, 1, 1, 1, 1, 1, 1, 1, 1, 0, 0, 1, 0, 1],\n",
              "        dtype=torch.uint8),\n",
              " tensor([0, 1, 0, 1, 1, 0, 1, 1, 1, 1, 1, 1, 1, 1, 0, 0, 1, 0, 1],\n",
              "        dtype=torch.uint8),\n",
              " tensor([0, 1, 0, 0, 1, 0, 1, 1, 1, 1, 1, 1, 1, 1, 0, 0, 1, 0, 1],\n",
              "        dtype=torch.uint8),\n",
              " tensor([0, 1, 0, 0, 1, 0, 1, 1, 1, 1, 1, 1, 1, 1, 0, 0, 1, 0, 1],\n",
              "        dtype=torch.uint8),\n",
              " tensor([0, 1, 0, 0, 1, 1, 1, 1, 1, 1, 1, 1, 1, 1, 0, 0, 1, 0, 1],\n",
              "        dtype=torch.uint8),\n",
              " tensor([0, 1, 0, 0, 1, 1, 0, 1, 1, 1, 1, 1, 1, 1, 0, 0, 1, 0, 1],\n",
              "        dtype=torch.uint8),\n",
              " tensor([0, 1, 0, 0, 1, 1, 0, 1, 1, 1, 1, 1, 1, 1, 0, 0, 1, 0, 1],\n",
              "        dtype=torch.uint8),\n",
              " tensor([0, 1, 0, 0, 1, 1, 0, 1, 1, 1, 1, 1, 1, 1, 0, 0, 1, 0, 1],\n",
              "        dtype=torch.uint8),\n",
              " tensor([0, 1, 0, 0, 1, 1, 0, 1, 1, 1, 1, 1, 1, 1, 0, 0, 1, 0, 1],\n",
              "        dtype=torch.uint8),\n",
              " tensor([0, 1, 0, 0, 1, 1, 0, 1, 1, 1, 1, 1, 1, 1, 0, 0, 1, 0, 1],\n",
              "        dtype=torch.uint8),\n",
              " tensor([0, 1, 0, 0, 1, 1, 0, 1, 1, 1, 1, 1, 1, 1, 0, 0, 1, 0, 1],\n",
              "        dtype=torch.uint8),\n",
              " tensor([0, 1, 0, 0, 1, 1, 0, 1, 1, 1, 1, 1, 1, 1, 0, 0, 1, 0, 1],\n",
              "        dtype=torch.uint8),\n",
              " tensor([0, 1, 0, 0, 1, 1, 0, 1, 1, 1, 1, 1, 1, 1, 0, 0, 1, 0, 1],\n",
              "        dtype=torch.uint8),\n",
              " tensor([0, 1, 0, 0, 1, 1, 0, 1, 1, 1, 1, 1, 1, 1, 1, 0, 1, 0, 1],\n",
              "        dtype=torch.uint8),\n",
              " tensor([0, 1, 0, 0, 1, 1, 0, 1, 1, 1, 1, 1, 1, 1, 1, 0, 1, 0, 1],\n",
              "        dtype=torch.uint8),\n",
              " tensor([0, 1, 0, 0, 1, 1, 0, 1, 1, 1, 1, 1, 1, 1, 1, 0, 0, 0, 1],\n",
              "        dtype=torch.uint8),\n",
              " tensor([0, 1, 0, 0, 1, 1, 0, 1, 1, 1, 1, 1, 1, 1, 1, 0, 0, 1, 1],\n",
              "        dtype=torch.uint8),\n",
              " tensor([0, 1, 0, 0, 1, 1, 0, 1, 1, 1, 1, 1, 1, 1, 1, 0, 0, 1, 0],\n",
              "        dtype=torch.uint8)]"
            ]
          },
          "metadata": {
            "tags": []
          },
          "execution_count": 7
        }
      ]
    },
    {
      "cell_type": "code",
      "metadata": {
        "id": "_wQOgmY4xwGk",
        "colab_type": "code",
        "colab": {}
      },
      "source": [
        "def create_db_and_parallel(num_enteries):\n",
        "  db=torch.rand(num_enteries)>0.5\n",
        "  pdbs= get_parallel_dbs(db)\n",
        "  \n",
        "  return db,pdbs"
      ],
      "execution_count": 0,
      "outputs": []
    },
    {
      "cell_type": "code",
      "metadata": {
        "id": "c7wK1vSyxwCZ",
        "colab_type": "code",
        "colab": {}
      },
      "source": [
        "db,pdbs =create_db_and_parallel(10)"
      ],
      "execution_count": 0,
      "outputs": []
    },
    {
      "cell_type": "code",
      "metadata": {
        "id": "gxvkfjLXxv-l",
        "colab_type": "code",
        "outputId": "9cfdb122-2ccb-41be-cb52-a7da1edb9329",
        "colab": {
          "base_uri": "https://localhost:8080/",
          "height": 34
        }
      },
      "source": [
        "db"
      ],
      "execution_count": 0,
      "outputs": [
        {
          "output_type": "execute_result",
          "data": {
            "text/plain": [
              "tensor([1, 1, 0, 0, 1, 0, 0, 1, 1, 0], dtype=torch.uint8)"
            ]
          },
          "metadata": {
            "tags": []
          },
          "execution_count": 10
        }
      ]
    },
    {
      "cell_type": "code",
      "metadata": {
        "id": "b7eTtG12xv7E",
        "colab_type": "code",
        "outputId": "f470325c-2538-4e6e-97a4-0ab6bf60c0e8",
        "colab": {
          "base_uri": "https://localhost:8080/",
          "height": 187
        }
      },
      "source": [
        "pdbs"
      ],
      "execution_count": 0,
      "outputs": [
        {
          "output_type": "execute_result",
          "data": {
            "text/plain": [
              "[tensor([1, 0, 0, 1, 0, 0, 1, 1, 0], dtype=torch.uint8),\n",
              " tensor([1, 0, 0, 1, 0, 0, 1, 1, 0], dtype=torch.uint8),\n",
              " tensor([1, 1, 0, 1, 0, 0, 1, 1, 0], dtype=torch.uint8),\n",
              " tensor([1, 1, 0, 1, 0, 0, 1, 1, 0], dtype=torch.uint8),\n",
              " tensor([1, 1, 0, 0, 0, 0, 1, 1, 0], dtype=torch.uint8),\n",
              " tensor([1, 1, 0, 0, 1, 0, 1, 1, 0], dtype=torch.uint8),\n",
              " tensor([1, 1, 0, 0, 1, 0, 1, 1, 0], dtype=torch.uint8),\n",
              " tensor([1, 1, 0, 0, 1, 0, 0, 1, 0], dtype=torch.uint8),\n",
              " tensor([1, 1, 0, 0, 1, 0, 0, 1, 0], dtype=torch.uint8),\n",
              " tensor([1, 1, 0, 0, 1, 0, 0, 1, 1], dtype=torch.uint8)]"
            ]
          },
          "metadata": {
            "tags": []
          },
          "execution_count": 11
        }
      ]
    },
    {
      "cell_type": "code",
      "metadata": {
        "id": "Ynyt5YXnxv3k",
        "colab_type": "code",
        "colab": {}
      },
      "source": [
        "db, pdbs = create_db_and_parallel(5000)"
      ],
      "execution_count": 0,
      "outputs": []
    },
    {
      "cell_type": "code",
      "metadata": {
        "id": "R8kpNo1izHF9",
        "colab_type": "code",
        "colab": {}
      },
      "source": [
        "def query(db):\n",
        "    return db.sum()"
      ],
      "execution_count": 0,
      "outputs": []
    },
    {
      "cell_type": "code",
      "metadata": {
        "id": "hM5LsQ4xzd9M",
        "colab_type": "code",
        "colab": {}
      },
      "source": [
        "full_db_result = query(db)"
      ],
      "execution_count": 0,
      "outputs": []
    },
    {
      "cell_type": "code",
      "metadata": {
        "id": "ADJ4-A7vzG8I",
        "colab_type": "code",
        "colab": {}
      },
      "source": [
        "sensitivity = 0\n",
        "for pdb in pdbs:\n",
        "    pdb_result = query(pdb)\n",
        "    \n",
        "    db_distance = torch.abs(pdb_result - full_db_result)\n",
        "    \n",
        "    if(db_distance > sensitivity):\n",
        "        sensitivity = db_distance"
      ],
      "execution_count": 0,
      "outputs": []
    },
    {
      "cell_type": "code",
      "metadata": {
        "id": "tSpYeREmzGx3",
        "colab_type": "code",
        "outputId": "f450783f-bf7f-428d-d68c-c0863945fefa",
        "colab": {
          "base_uri": "https://localhost:8080/",
          "height": 34
        }
      },
      "source": [
        "sensitivity"
      ],
      "execution_count": 0,
      "outputs": [
        {
          "output_type": "execute_result",
          "data": {
            "text/plain": [
              "tensor(1)"
            ]
          },
          "metadata": {
            "tags": []
          },
          "execution_count": 16
        }
      ]
    },
    {
      "cell_type": "code",
      "metadata": {
        "id": "kFC0BVoWzGnc",
        "colab_type": "code",
        "colab": {}
      },
      "source": [
        "db, pdbs = create_db_and_parallel(5000)"
      ],
      "execution_count": 0,
      "outputs": []
    },
    {
      "cell_type": "code",
      "metadata": {
        "id": "pZVkJnnpyzBw",
        "colab_type": "code",
        "colab": {}
      },
      "source": [
        "full_db_result = query(db)"
      ],
      "execution_count": 0,
      "outputs": []
    },
    {
      "cell_type": "code",
      "metadata": {
        "id": "E6PQKieRzw95",
        "colab_type": "code",
        "colab": {}
      },
      "source": [
        "def sensitivity(query,n_enteries=1000):\n",
        "  db, pdbs = create_db_and_parallel(n_enteries)\n",
        "  full_db_result = query(db)\n",
        "  max_distance = 0\n",
        "  for pdb in pdbs:\n",
        "    \n",
        "    pdb_result = query(pdb)\n",
        "    \n",
        "    db_distance = torch.abs(pdb_result - full_db_result)\n",
        "    \n",
        "    if(db_distance > max_distance):\n",
        "        max_distance = db_distance\n",
        "  return max_distance"
      ],
      "execution_count": 0,
      "outputs": []
    },
    {
      "cell_type": "code",
      "metadata": {
        "id": "UT7LewPxzwyz",
        "colab_type": "code",
        "colab": {}
      },
      "source": [
        "def query(db):\n",
        "    return db.float().mean()"
      ],
      "execution_count": 0,
      "outputs": []
    },
    {
      "cell_type": "code",
      "metadata": {
        "id": "RQiRYVDnzwmR",
        "colab_type": "code",
        "outputId": "d9dc9d69-6fc4-4e7b-8f92-a6df2897fbbf",
        "colab": {
          "base_uri": "https://localhost:8080/",
          "height": 34
        }
      },
      "source": [
        "sensitivity(query)"
      ],
      "execution_count": 0,
      "outputs": [
        {
          "output_type": "execute_result",
          "data": {
            "text/plain": [
              "tensor(0.0005)"
            ]
          },
          "metadata": {
            "tags": []
          },
          "execution_count": 21
        }
      ]
    },
    {
      "cell_type": "code",
      "metadata": {
        "id": "kP9OrgG7zwY7",
        "colab_type": "code",
        "outputId": "40900f0e-4b57-45de-e9f8-124adcd3c43c",
        "colab": {
          "base_uri": "https://localhost:8080/",
          "height": 34
        }
      },
      "source": [
        "db, pdbs = create_db_and_parallel(10)\n",
        "db"
      ],
      "execution_count": 0,
      "outputs": [
        {
          "output_type": "execute_result",
          "data": {
            "text/plain": [
              "tensor([1, 0, 0, 0, 1, 1, 0, 1, 1, 0], dtype=torch.uint8)"
            ]
          },
          "metadata": {
            "tags": []
          },
          "execution_count": 22
        }
      ]
    },
    {
      "cell_type": "code",
      "metadata": {
        "id": "0ttbkxITzwKg",
        "colab_type": "code",
        "outputId": "ad1f5535-8372-49da-cdcb-9355002dc8c9",
        "colab": {
          "base_uri": "https://localhost:8080/",
          "height": 187
        }
      },
      "source": [
        "pdbs"
      ],
      "execution_count": 0,
      "outputs": [
        {
          "output_type": "execute_result",
          "data": {
            "text/plain": [
              "[tensor([0, 0, 0, 1, 1, 0, 1, 1, 0], dtype=torch.uint8),\n",
              " tensor([1, 0, 0, 1, 1, 0, 1, 1, 0], dtype=torch.uint8),\n",
              " tensor([1, 0, 0, 1, 1, 0, 1, 1, 0], dtype=torch.uint8),\n",
              " tensor([1, 0, 0, 1, 1, 0, 1, 1, 0], dtype=torch.uint8),\n",
              " tensor([1, 0, 0, 0, 1, 0, 1, 1, 0], dtype=torch.uint8),\n",
              " tensor([1, 0, 0, 0, 1, 0, 1, 1, 0], dtype=torch.uint8),\n",
              " tensor([1, 0, 0, 0, 1, 1, 1, 1, 0], dtype=torch.uint8),\n",
              " tensor([1, 0, 0, 0, 1, 1, 0, 1, 0], dtype=torch.uint8),\n",
              " tensor([1, 0, 0, 0, 1, 1, 0, 1, 0], dtype=torch.uint8),\n",
              " tensor([1, 0, 0, 0, 1, 1, 0, 1, 1], dtype=torch.uint8)]"
            ]
          },
          "metadata": {
            "tags": []
          },
          "execution_count": 23
        }
      ]
    },
    {
      "cell_type": "code",
      "metadata": {
        "id": "XEKiVQLnyy4W",
        "colab_type": "code",
        "colab": {}
      },
      "source": [
        "def query(db, threshold=5):\n",
        "  return (db.sum()>threshold).float()"
      ],
      "execution_count": 0,
      "outputs": []
    },
    {
      "cell_type": "code",
      "metadata": {
        "id": "BxQQf04NeM1v",
        "colab_type": "code",
        "outputId": "1673c299-9999-4d0f-efb0-3b5ed7a5192d",
        "colab": {
          "base_uri": "https://localhost:8080/",
          "height": 34
        }
      },
      "source": [
        "db, pdbs = create_db_and_parallel(10)\n",
        "db.sum()"
      ],
      "execution_count": 0,
      "outputs": [
        {
          "output_type": "execute_result",
          "data": {
            "text/plain": [
              "tensor(2)"
            ]
          },
          "metadata": {
            "tags": []
          },
          "execution_count": 42
        }
      ]
    },
    {
      "cell_type": "code",
      "metadata": {
        "id": "ySt6cv89eMLb",
        "colab_type": "code",
        "outputId": "4bc5490a-e65a-43d7-faa9-d4e99edf782d",
        "colab": {
          "base_uri": "https://localhost:8080/",
          "height": 34
        }
      },
      "source": [
        "db.sum()>5"
      ],
      "execution_count": 0,
      "outputs": [
        {
          "output_type": "execute_result",
          "data": {
            "text/plain": [
              "tensor(0, dtype=torch.uint8)"
            ]
          },
          "metadata": {
            "tags": []
          },
          "execution_count": 33
        }
      ]
    },
    {
      "cell_type": "code",
      "metadata": {
        "id": "bjFEJEaseIbc",
        "colab_type": "code",
        "outputId": "a7ce631f-aefa-46d6-f8f5-7352d416b249",
        "colab": {
          "base_uri": "https://localhost:8080/",
          "height": 34
        }
      },
      "source": [
        "query(db)"
      ],
      "execution_count": 0,
      "outputs": [
        {
          "output_type": "execute_result",
          "data": {
            "text/plain": [
              "tensor(0.)"
            ]
          },
          "metadata": {
            "tags": []
          },
          "execution_count": 39
        }
      ]
    },
    {
      "cell_type": "code",
      "metadata": {
        "id": "6pK1fEwZeH8W",
        "colab_type": "code",
        "outputId": "37c7c6b3-9986-4e6d-9f6e-864ee93f457c",
        "colab": {
          "base_uri": "https://localhost:8080/",
          "height": 187
        }
      },
      "source": [
        "for i in range(10):\n",
        "  sen_f=sensitivity(query,n_enteries=10)\n",
        "  print(sen_f)"
      ],
      "execution_count": 0,
      "outputs": [
        {
          "output_type": "stream",
          "text": [
            "0\n",
            "tensor(1.)\n",
            "tensor(1.)\n",
            "0\n",
            "0\n",
            "tensor(1.)\n",
            "0\n",
            "0\n",
            "0\n",
            "0\n"
          ],
          "name": "stdout"
        }
      ]
    },
    {
      "cell_type": "code",
      "metadata": {
        "id": "QV9A3IcLeGw5",
        "colab_type": "code",
        "outputId": "7770de04-fe35-48f9-de01-6e0a88bdffea",
        "colab": {
          "base_uri": "https://localhost:8080/",
          "height": 102
        }
      },
      "source": [
        "db, _ =create_db_and_parallel(100)\n",
        "db\n"
      ],
      "execution_count": 0,
      "outputs": [
        {
          "output_type": "execute_result",
          "data": {
            "text/plain": [
              "tensor([1, 0, 0, 1, 0, 1, 0, 1, 1, 1, 1, 1, 1, 1, 1, 0, 0, 0, 0, 0, 0, 0, 1, 1,\n",
              "        1, 0, 0, 1, 0, 0, 1, 0, 1, 0, 1, 0, 0, 1, 1, 1, 0, 0, 1, 1, 1, 1, 1, 0,\n",
              "        0, 1, 0, 0, 1, 1, 0, 1, 0, 0, 1, 1, 1, 0, 1, 0, 0, 0, 0, 1, 1, 0, 0, 0,\n",
              "        1, 0, 1, 1, 0, 0, 1, 1, 1, 0, 1, 0, 1, 1, 1, 0, 0, 0, 0, 1, 1, 1, 1, 1,\n",
              "        1, 1, 1, 0], dtype=torch.uint8)"
            ]
          },
          "metadata": {
            "tags": []
          },
          "execution_count": 65
        }
      ]
    },
    {
      "cell_type": "code",
      "metadata": {
        "id": "yMHHgw_IyyvO",
        "colab_type": "code",
        "colab": {}
      },
      "source": [
        "pdb= get_parallel_db(db,remove_index=10)"
      ],
      "execution_count": 0,
      "outputs": []
    },
    {
      "cell_type": "code",
      "metadata": {
        "id": "tB1RXoIiq7Rh",
        "colab_type": "code",
        "outputId": "91f42f08-d712-4f61-a584-abecad7b2455",
        "colab": {
          "base_uri": "https://localhost:8080/",
          "height": 34
        }
      },
      "source": [
        "db[10]"
      ],
      "execution_count": 0,
      "outputs": [
        {
          "output_type": "execute_result",
          "data": {
            "text/plain": [
              "tensor(1, dtype=torch.uint8)"
            ]
          },
          "metadata": {
            "tags": []
          },
          "execution_count": 67
        }
      ]
    },
    {
      "cell_type": "code",
      "metadata": {
        "id": "APfRmoyYq7Dg",
        "colab_type": "code",
        "outputId": "1608a97a-6ad1-4e9a-94d4-e009f183c198",
        "colab": {
          "base_uri": "https://localhost:8080/",
          "height": 34
        }
      },
      "source": [
        "sum(db)"
      ],
      "execution_count": 0,
      "outputs": [
        {
          "output_type": "execute_result",
          "data": {
            "text/plain": [
              "tensor(54, dtype=torch.uint8)"
            ]
          },
          "metadata": {
            "tags": []
          },
          "execution_count": 68
        }
      ]
    },
    {
      "cell_type": "code",
      "metadata": {
        "id": "d_eVDNRTq6zp",
        "colab_type": "code",
        "outputId": "e3dbaa5a-5660-424a-cf45-d2489458858b",
        "colab": {
          "base_uri": "https://localhost:8080/",
          "height": 34
        }
      },
      "source": [
        "#differencing privacy using sum\n",
        "\n",
        "sum(db)-sum(pdb)\n"
      ],
      "execution_count": 0,
      "outputs": [
        {
          "output_type": "execute_result",
          "data": {
            "text/plain": [
              "tensor(255, dtype=torch.uint8)"
            ]
          },
          "metadata": {
            "tags": []
          },
          "execution_count": 70
        }
      ]
    },
    {
      "cell_type": "code",
      "metadata": {
        "id": "0t-xilGFrTek",
        "colab_type": "code",
        "outputId": "7fda8987-c448-4e4f-e29f-a7a86d62b085",
        "colab": {
          "base_uri": "https://localhost:8080/",
          "height": 34
        }
      },
      "source": [
        "#differencing privacy using mean function\n",
        "\n",
        "(sum(db).float()/len(db))-(sum(pdb).float()/len(pdb))"
      ],
      "execution_count": 0,
      "outputs": [
        {
          "output_type": "execute_result",
          "data": {
            "text/plain": [
              "tensor(0.0046)"
            ]
          },
          "metadata": {
            "tags": []
          },
          "execution_count": 72
        }
      ]
    },
    {
      "cell_type": "code",
      "metadata": {
        "id": "L_B5pmcyrTHB",
        "colab_type": "code",
        "outputId": "02838fcb-23e6-471a-ee1f-1cb728b83fce",
        "colab": {
          "base_uri": "https://localhost:8080/",
          "height": 34
        }
      },
      "source": [
        "#differencing privacy using threshold\n",
        "\n",
        "(sum(db)>53)-(sum(pdb)>53)"
      ],
      "execution_count": 0,
      "outputs": [
        {
          "output_type": "execute_result",
          "data": {
            "text/plain": [
              "tensor(1, dtype=torch.uint8)"
            ]
          },
          "metadata": {
            "tags": []
          },
          "execution_count": 73
        }
      ]
    },
    {
      "cell_type": "code",
      "metadata": {
        "id": "V0a8JOrArSz8",
        "colab_type": "code",
        "outputId": "ad7ec9fa-b32e-4af9-c80d-a235c91bf728",
        "colab": {
          "base_uri": "https://localhost:8080/",
          "height": 34
        }
      },
      "source": [
        "#differencing privacy using threshold\n",
        "#if we take greater than hte sum(db) the output will be 0\n",
        "\n",
        "(sum(db)>55)-(sum(pdb)>55)"
      ],
      "execution_count": 0,
      "outputs": [
        {
          "output_type": "execute_result",
          "data": {
            "text/plain": [
              "tensor(0, dtype=torch.uint8)"
            ]
          },
          "metadata": {
            "tags": []
          },
          "execution_count": 75
        }
      ]
    },
    {
      "cell_type": "code",
      "metadata": {
        "id": "OtOYmyRirSkK",
        "colab_type": "code",
        "colab": {}
      },
      "source": [
        ""
      ],
      "execution_count": 0,
      "outputs": []
    }
  ]
}